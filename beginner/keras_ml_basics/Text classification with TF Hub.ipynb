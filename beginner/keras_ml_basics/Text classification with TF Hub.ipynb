{
 "cells": [
  {
   "cell_type": "code",
   "execution_count": 1,
   "metadata": {},
   "outputs": [
    {
     "name": "stdout",
     "output_type": "stream",
     "text": [
      "Version:  2.1.0\n",
      "Eager mode:  True\n",
      "Hub version:  0.7.0\n",
      "GPU is NOT AVAILABLE\n"
     ]
    }
   ],
   "source": [
    "from __future__ import absolute_import, division, print_function, unicode_literals\n",
    "\n",
    "import numpy as np\n",
    "\n",
    "import tensorflow as tf\n",
    "\n",
    "!pip install -q tensorflow-hub\n",
    "!pip install -q tfds-nightly\n",
    "import tensorflow_hub as hub\n",
    "import tensorflow_datasets as tfds\n",
    "\n",
    "print(\"Version: \", tf.__version__)\n",
    "print(\"Eager mode: \", tf.executing_eagerly())\n",
    "print(\"Hub version: \", hub.__version__)\n",
    "print(\"GPU is\", \"available\" if tf.config.experimental.list_physical_devices(\"GPU\") else \"NOT AVAILABLE\")"
   ]
  },
  {
   "cell_type": "code",
   "execution_count": 2,
   "metadata": {},
   "outputs": [
    {
     "name": "stdout",
     "output_type": "stream",
     "text": [
      "\u001b[1mDownloading and preparing dataset imdb_reviews/plain_text/1.0.0 (download: 80.23 MiB, generated: Unknown size, total: 80.23 MiB) to /Users/cesarsalcedo/tensorflow_datasets/imdb_reviews/plain_text/1.0.0...\u001b[0m\n"
     ]
    },
    {
     "data": {
      "application/vnd.jupyter.widget-view+json": {
       "model_id": "92d5d8cdde894264a5484d7cae2047a0",
       "version_major": 2,
       "version_minor": 0
      },
      "text/plain": [
       "HBox(children=(FloatProgress(value=1.0, bar_style='info', description='Dl Completed...', max=1.0, style=Progre…"
      ]
     },
     "metadata": {},
     "output_type": "display_data"
    },
    {
     "data": {
      "application/vnd.jupyter.widget-view+json": {
       "model_id": "088ccf995433407e8760e804cf82696b",
       "version_major": 2,
       "version_minor": 0
      },
      "text/plain": [
       "HBox(children=(FloatProgress(value=1.0, bar_style='info', description='Dl Size...', max=1.0, style=ProgressSty…"
      ]
     },
     "metadata": {},
     "output_type": "display_data"
    },
    {
     "name": "stdout",
     "output_type": "stream",
     "text": [
      "\n",
      "\n",
      "\n",
      "\n"
     ]
    },
    {
     "data": {
      "application/vnd.jupyter.widget-view+json": {
       "model_id": "",
       "version_major": 2,
       "version_minor": 0
      },
      "text/plain": [
       "HBox(children=(FloatProgress(value=1.0, bar_style='info', max=1.0), HTML(value='')))"
      ]
     },
     "metadata": {},
     "output_type": "display_data"
    },
    {
     "name": "stdout",
     "output_type": "stream",
     "text": [
      "\r",
      "Shuffling and writing examples to /Users/cesarsalcedo/tensorflow_datasets/imdb_reviews/plain_text/1.0.0.incompleteMON8D1/imdb_reviews-train.tfrecord\n"
     ]
    },
    {
     "data": {
      "application/vnd.jupyter.widget-view+json": {
       "model_id": "49bee44f39864a078fb338afe40b88f0",
       "version_major": 2,
       "version_minor": 0
      },
      "text/plain": [
       "HBox(children=(FloatProgress(value=0.0, max=25000.0), HTML(value='')))"
      ]
     },
     "metadata": {},
     "output_type": "display_data"
    },
    {
     "name": "stdout",
     "output_type": "stream",
     "text": [
      "\r"
     ]
    },
    {
     "data": {
      "application/vnd.jupyter.widget-view+json": {
       "model_id": "",
       "version_major": 2,
       "version_minor": 0
      },
      "text/plain": [
       "HBox(children=(FloatProgress(value=1.0, bar_style='info', max=1.0), HTML(value='')))"
      ]
     },
     "metadata": {},
     "output_type": "display_data"
    },
    {
     "name": "stdout",
     "output_type": "stream",
     "text": [
      "\r",
      "Shuffling and writing examples to /Users/cesarsalcedo/tensorflow_datasets/imdb_reviews/plain_text/1.0.0.incompleteMON8D1/imdb_reviews-test.tfrecord\n"
     ]
    },
    {
     "data": {
      "application/vnd.jupyter.widget-view+json": {
       "model_id": "60e4144c8ecf44cc93ba364218ed24ea",
       "version_major": 2,
       "version_minor": 0
      },
      "text/plain": [
       "HBox(children=(FloatProgress(value=0.0, max=25000.0), HTML(value='')))"
      ]
     },
     "metadata": {},
     "output_type": "display_data"
    },
    {
     "name": "stdout",
     "output_type": "stream",
     "text": [
      "\r"
     ]
    },
    {
     "data": {
      "application/vnd.jupyter.widget-view+json": {
       "model_id": "",
       "version_major": 2,
       "version_minor": 0
      },
      "text/plain": [
       "HBox(children=(FloatProgress(value=1.0, bar_style='info', max=1.0), HTML(value='')))"
      ]
     },
     "metadata": {},
     "output_type": "display_data"
    },
    {
     "name": "stdout",
     "output_type": "stream",
     "text": [
      "\r",
      "Shuffling and writing examples to /Users/cesarsalcedo/tensorflow_datasets/imdb_reviews/plain_text/1.0.0.incompleteMON8D1/imdb_reviews-unsupervised.tfrecord\n"
     ]
    },
    {
     "data": {
      "application/vnd.jupyter.widget-view+json": {
       "model_id": "da967e0d91a3499bba5370fe0ac444e9",
       "version_major": 2,
       "version_minor": 0
      },
      "text/plain": [
       "HBox(children=(FloatProgress(value=0.0, max=50000.0), HTML(value='')))"
      ]
     },
     "metadata": {},
     "output_type": "display_data"
    },
    {
     "name": "stdout",
     "output_type": "stream",
     "text": [
      "\u001b[1mDataset imdb_reviews downloaded and prepared to /Users/cesarsalcedo/tensorflow_datasets/imdb_reviews/plain_text/1.0.0. Subsequent calls will reuse this data.\u001b[0m\n",
      "\r"
     ]
    }
   ],
   "source": [
    "# Split the training set into 60% and 40%, so we'll end up with 15,000 examples\n",
    "# for training, 10,000 examples for validation and 25,000 examples for testing.\n",
    "train_data, validation_data, test_data = tfds.load(\n",
    "    name=\"imdb_reviews\", \n",
    "    split=('train[:60%]', 'train[60%:]', 'test'),\n",
    "    as_supervised=True)"
   ]
  },
  {
   "cell_type": "code",
   "execution_count": 4,
   "metadata": {},
   "outputs": [],
   "source": [
    "train_examples_batch, train_labels_batch = next(iter(train_data.batch(10)))"
   ]
  },
  {
   "cell_type": "code",
   "execution_count": 27,
   "metadata": {},
   "outputs": [
    {
     "data": {
      "text/plain": [
       "<tf.Tensor: shape=(3, 128), dtype=float32, numpy=\n",
       "array([[ 9.01966274e-01, -4.83913347e-03,  1.17907055e-01,\n",
       "         3.81319046e-01,  6.57222793e-02, -3.01581532e-01,\n",
       "         8.90584365e-02, -2.69034863e-01, -8.51345584e-02,\n",
       "         1.08877886e-02, -6.66372627e-02, -3.73063087e-01,\n",
       "        -2.76447266e-01, -1.87254980e-01,  5.67507632e-02,\n",
       "         9.09779966e-02, -6.24961555e-02, -3.28687276e-03,\n",
       "        -3.08512092e-01,  3.78482223e-01,  7.62880966e-02,\n",
       "         1.43733576e-01, -1.12897493e-01,  9.59761534e-03,\n",
       "        -2.38938913e-01,  2.93743908e-02,  7.28663057e-02,\n",
       "        -2.48727947e-02, -8.16893280e-02,  6.68320432e-02,\n",
       "        -5.62225394e-02,  2.47078985e-01,  1.17681175e-01,\n",
       "         3.17581035e-02,  2.65932620e-01, -1.37706831e-01,\n",
       "        -1.50708258e-01, -1.63614675e-01, -1.51269153e-01,\n",
       "         2.34616160e-01, -9.12236273e-02, -4.22684886e-02,\n",
       "        -1.01224177e-01, -2.12229744e-01,  6.74503446e-02,\n",
       "         1.85163647e-01,  3.62982228e-02, -3.50210071e-01,\n",
       "        -5.92576079e-02, -9.54059511e-02, -9.65666175e-02,\n",
       "         3.79339904e-02, -2.36725271e-01,  2.67956525e-01,\n",
       "        -2.22367734e-01, -1.80506572e-01, -1.13724798e-01,\n",
       "         4.91059460e-02, -1.19525626e-01, -2.27335095e-03,\n",
       "        -1.81468800e-01, -4.74342071e-02,  9.61481929e-02,\n",
       "         4.93341237e-02,  2.69693173e-02,  2.66610924e-02,\n",
       "        -8.21918398e-02, -2.03230649e-01,  2.25084737e-01,\n",
       "         7.74206817e-02, -1.10149167e-01,  1.33730099e-01,\n",
       "         1.08389042e-01, -2.49691661e-02,  3.02257799e-02,\n",
       "         2.03551911e-02, -1.39646962e-01, -1.77291587e-01,\n",
       "        -1.31853789e-01,  1.65671393e-01, -4.72507323e-04,\n",
       "        -9.78293121e-02, -1.64517537e-01,  6.93127662e-02,\n",
       "        -7.20646083e-02, -1.01133175e-02, -4.18493431e-03,\n",
       "         2.48376504e-01,  7.00922966e-01,  6.45013988e-01,\n",
       "        -2.46314004e-01,  2.48779714e-01,  5.55042960e-02,\n",
       "        -1.72061652e-01,  5.44746453e-03,  2.16645315e-01,\n",
       "         1.24983951e-01, -1.32985115e-02, -9.09600873e-03,\n",
       "         8.74783769e-02, -2.72958595e-02,  5.59117980e-02,\n",
       "         2.11243659e-01,  2.08114520e-01,  1.86446942e-02,\n",
       "        -2.44881704e-01, -2.11568519e-01,  6.63717464e-02,\n",
       "        -1.52921677e-01,  9.16463733e-02, -1.56010687e-01,\n",
       "         4.47210558e-02, -1.58450484e-01, -1.72194898e-01,\n",
       "        -5.40404953e-02, -2.69618005e-01,  1.23170123e-01,\n",
       "         2.13364601e-01, -6.43658787e-02,  3.61668468e-02,\n",
       "         2.14489356e-01, -1.19912423e-01, -4.83419979e-04,\n",
       "         2.64609545e-01,  5.51236942e-02, -3.29729654e-02,\n",
       "         3.31326015e-02,  2.97882948e-02],\n",
       "       [ 1.16170359e+00, -7.05558211e-02,  1.60849199e-01,\n",
       "         3.51089686e-01,  1.02360711e-01, -1.50161996e-01,\n",
       "         5.18622026e-02, -2.03599006e-01,  6.68436140e-02,\n",
       "         1.42898023e-01,  1.48364618e-01, -2.91968614e-01,\n",
       "        -2.71577537e-01, -1.68576062e-01, -1.36256337e-01,\n",
       "         1.11695267e-01, -3.98711339e-02, -1.28138252e-02,\n",
       "        -3.04618925e-01,  5.42941988e-01,  2.79047489e-01,\n",
       "         1.59953356e-01, -3.32696103e-02, -2.49510771e-03,\n",
       "         2.85213925e-02, -6.92468956e-02,  1.93658113e-01,\n",
       "         1.93804561e-03, -1.92921445e-01,  6.70231208e-02,\n",
       "        -6.65799081e-02,  1.09033152e-01,  1.58422500e-01,\n",
       "         8.64866525e-02,  1.43579140e-01,  1.03380650e-01,\n",
       "        -4.73922193e-02, -4.26952273e-01, -6.54661702e-03,\n",
       "         1.97512910e-01, -3.22361104e-02, -2.14782055e-03,\n",
       "        -4.52199429e-02, -1.74372524e-01,  4.96806242e-02,\n",
       "         2.45766431e-01,  7.25580603e-02, -2.50667706e-02,\n",
       "        -3.02816182e-01,  1.43102169e-01,  6.67183176e-02,\n",
       "         1.50330588e-01, -1.28028333e-01,  1.26082793e-01,\n",
       "        -2.56188482e-01, -1.63196176e-01, -1.47142131e-02,\n",
       "        -1.44210309e-02,  2.35588059e-01,  2.94179227e-02,\n",
       "        -7.58787766e-02,  1.56788360e-02,  2.24473611e-01,\n",
       "        -1.53830796e-01, -1.23326421e-01, -1.18660610e-02,\n",
       "         1.57802682e-02, -1.79677367e-01,  1.23224139e-01,\n",
       "        -1.33039325e-01, -2.85176724e-01,  1.21948622e-01,\n",
       "         1.12625323e-01, -9.61901918e-02,  9.55129508e-03,\n",
       "         1.06275082e-01, -3.13692056e-02, -3.32366943e-01,\n",
       "         2.51673460e-02,  1.29422277e-01,  1.86496243e-01,\n",
       "         9.06253606e-03,  4.64373603e-02,  8.57261270e-02,\n",
       "         7.07606375e-02, -1.34054944e-01, -3.60419393e-01,\n",
       "         1.96367204e-01,  9.43037808e-01,  2.89180458e-01,\n",
       "        -1.13498874e-01,  1.06576920e-01,  1.35154268e-02,\n",
       "        -1.61476016e-01,  9.91938114e-02,  2.41570454e-02,\n",
       "         1.25472501e-01, -5.03857136e-02, -3.40599120e-02,\n",
       "         1.61820367e-01, -5.16199619e-02,  1.06337145e-01,\n",
       "         3.06430757e-01,  1.87173590e-01,  3.57286893e-02,\n",
       "        -1.35669515e-01, -2.43754730e-01,  3.51791047e-02,\n",
       "        -2.83647835e-01,  7.77992904e-02, -5.69541574e-01,\n",
       "         3.40250097e-02, -3.03014874e-01, -9.90547165e-02,\n",
       "        -7.81514961e-03, -3.85634869e-01, -1.29726410e-01,\n",
       "         4.75285724e-02, -3.18061970e-02, -2.62782443e-02,\n",
       "         1.93936780e-01, -1.66382834e-01,  1.32129624e-01,\n",
       "         1.14584014e-01, -3.33895721e-02, -8.43404531e-02,\n",
       "        -5.93071952e-02,  6.59306049e-02],\n",
       "       [ 7.89935350e-01, -1.92666233e-01,  8.59462842e-02,\n",
       "         1.53726608e-01,  1.95093232e-03,  1.50660705e-02,\n",
       "        -5.82072325e-02,  5.00802286e-02, -6.66294098e-02,\n",
       "         3.98210175e-02, -2.09152922e-02, -1.82045296e-01,\n",
       "        -1.15411662e-01, -2.62630641e-01, -1.56492770e-01,\n",
       "        -5.35144471e-02, -1.41639099e-01,  1.93874463e-02,\n",
       "        -1.37122169e-01,  9.09082413e-01, -2.52462868e-02,\n",
       "         3.22987527e-01,  4.61238585e-02,  1.72868013e-01,\n",
       "        -4.42900993e-02, -6.57747984e-02, -6.79853037e-02,\n",
       "        -9.84842926e-02, -3.51922177e-02, -1.10344328e-02,\n",
       "         1.16057135e-01, -8.15129206e-02,  2.02651680e-01,\n",
       "         6.64596865e-03,  7.05530941e-02, -9.66157578e-03,\n",
       "         3.51603627e-02, -1.96129397e-01, -1.82812903e-02,\n",
       "         1.84423357e-01,  6.92232624e-02, -3.77804078e-02,\n",
       "        -1.62355155e-01,  1.30570680e-01,  1.34224311e-01,\n",
       "        -1.50277736e-02,  9.65407714e-02, -1.26141369e-01,\n",
       "        -4.05008420e-02, -1.15344815e-01,  3.93504947e-02,\n",
       "         1.91737935e-01,  5.99980913e-02,  2.99692899e-01,\n",
       "         5.49813323e-02, -2.27710709e-01, -1.06945246e-01,\n",
       "         1.74803928e-01,  2.32869118e-01, -7.55720735e-02,\n",
       "        -2.10200951e-01,  8.46374631e-02, -1.70005560e-01,\n",
       "         1.72499210e-01, -5.05370423e-02, -9.07554403e-02,\n",
       "         8.56346451e-03,  2.29058042e-02,  2.60947347e-01,\n",
       "        -4.24651392e-02, -8.06366801e-02, -1.52203590e-01,\n",
       "        -1.09100053e-02,  7.10022300e-02,  7.09610358e-02,\n",
       "         1.98364004e-01,  1.60713434e-01, -2.05790639e-01,\n",
       "         2.07749978e-02,  2.44555138e-02,  8.46600309e-02,\n",
       "         4.19601165e-02, -2.38341112e-02,  5.08614331e-02,\n",
       "        -4.37806658e-02, -9.67954174e-02, -1.28794938e-01,\n",
       "         1.45295113e-01,  3.34722281e-01, -2.49092355e-02,\n",
       "        -7.21996874e-02,  7.60333985e-02,  1.09788142e-01,\n",
       "        -5.91083243e-02,  1.77998230e-01,  1.05147131e-01,\n",
       "         2.73706466e-01,  1.63680017e-01,  2.92986393e-01,\n",
       "         1.62288636e-01,  1.92936987e-01, -7.25108087e-02,\n",
       "         1.48647577e-01,  1.20697133e-01,  1.75806686e-01,\n",
       "        -8.22802186e-02,  3.19161601e-02,  9.75683853e-02,\n",
       "        -2.27390900e-01, -1.89130962e-01, -7.75573701e-02,\n",
       "         7.51652941e-02, -9.91581455e-02,  9.62962583e-03,\n",
       "         6.42622411e-02, -1.50064066e-01,  1.14945382e-01,\n",
       "         5.34672337e-03,  1.96428418e-01, -2.10412573e-02,\n",
       "         5.44419959e-02, -3.22782189e-01,  5.69203123e-03,\n",
       "        -1.00528084e-01, -7.29111880e-02, -1.84138656e-01,\n",
       "        -1.51076904e-02, -6.30587935e-02]], dtype=float32)>"
      ]
     },
     "execution_count": 27,
     "metadata": {},
     "output_type": "execute_result"
    }
   ],
   "source": [
    "embeddings = [\n",
    "    \"https://tfhub.dev/google/tf2-preview/gnews-swivel-20dim/1\",\n",
    "    \"https://tfhub.dev/google/tf2-preview/gnews-swivel-20dim-with-oov/1\",\n",
    "    \"https://tfhub.dev/google/tf2-preview/nnlm-en-dim50/1\",\n",
    "    \"https://tfhub.dev/google/tf2-preview/nnlm-en-dim128/1\"\n",
    "]\n",
    "\n",
    "hub_layer = hub.KerasLayer(embeddings[3], input_shape=[], \n",
    "                           dtype=tf.string, trainable=True)\n",
    "hub_layer(train_examples_batch[:3])"
   ]
  },
  {
   "cell_type": "code",
   "execution_count": 28,
   "metadata": {},
   "outputs": [
    {
     "name": "stdout",
     "output_type": "stream",
     "text": [
      "Model: \"sequential_5\"\n",
      "_________________________________________________________________\n",
      "Layer (type)                 Output Shape              Param #   \n",
      "=================================================================\n",
      "keras_layer_5 (KerasLayer)   (None, 128)               124642688 \n",
      "_________________________________________________________________\n",
      "dense_10 (Dense)             (None, 16)                2064      \n",
      "_________________________________________________________________\n",
      "dense_11 (Dense)             (None, 1)                 17        \n",
      "=================================================================\n",
      "Total params: 124,644,769\n",
      "Trainable params: 124,644,769\n",
      "Non-trainable params: 0\n",
      "_________________________________________________________________\n"
     ]
    }
   ],
   "source": [
    "model = tf.keras.Sequential()\n",
    "model.add(hub_layer)\n",
    "model.add(tf.keras.layers.Dense(16, activation='relu'))\n",
    "model.add(tf.keras.layers.Dense(1))\n",
    "\n",
    "model.summary()"
   ]
  },
  {
   "cell_type": "code",
   "execution_count": 29,
   "metadata": {},
   "outputs": [],
   "source": [
    "model.compile(optimizer='adam',\n",
    "              loss=tf.keras.losses.BinaryCrossentropy(from_logits=True),\n",
    "              metrics=['accuracy'])"
   ]
  },
  {
   "cell_type": "code",
   "execution_count": 30,
   "metadata": {},
   "outputs": [
    {
     "name": "stdout",
     "output_type": "stream",
     "text": [
      "Epoch 1/5\n",
      "30/30 [==============================] - 52s 2s/step - loss: 0.6016 - accuracy: 0.5898 - val_loss: 0.5116 - val_accuracy: 0.7002\n",
      "Epoch 2/5\n",
      "30/30 [==============================] - 50s 2s/step - loss: 0.4045 - accuracy: 0.8171 - val_loss: 0.3749 - val_accuracy: 0.8418\n",
      "Epoch 3/5\n",
      "30/30 [==============================] - 50s 2s/step - loss: 0.2576 - accuracy: 0.9005 - val_loss: 0.3183 - val_accuracy: 0.8543\n",
      "Epoch 4/5\n",
      "30/30 [==============================] - 52s 2s/step - loss: 0.1692 - accuracy: 0.9424 - val_loss: 0.3012 - val_accuracy: 0.8756\n",
      "Epoch 5/5\n",
      "30/30 [==============================] - 53s 2s/step - loss: 0.1088 - accuracy: 0.9699 - val_loss: 0.2994 - val_accuracy: 0.8737\n"
     ]
    }
   ],
   "source": [
    "history = model.fit(train_data.shuffle(10000).batch(512),\n",
    "                    epochs=5,\n",
    "                    validation_data=validation_data.batch(512),\n",
    "                    verbose=1)"
   ]
  },
  {
   "cell_type": "code",
   "execution_count": 32,
   "metadata": {},
   "outputs": [
    {
     "name": "stdout",
     "output_type": "stream",
     "text": [
      "loss: 0.319\n",
      "accuracy: 0.858\n"
     ]
    }
   ],
   "source": [
    "results = model.evaluate(test_data.batch(512), verbose=2)\n",
    "\n",
    "for name, value in zip(model.metrics_names, results):\n",
    "  print(\"%s: %.3f\" % (name, value))"
   ]
  },
  {
   "cell_type": "code",
   "execution_count": null,
   "metadata": {},
   "outputs": [],
   "source": []
  }
 ],
 "metadata": {
  "kernelspec": {
   "display_name": "Python 3",
   "language": "python",
   "name": "python3"
  },
  "language_info": {
   "codemirror_mode": {
    "name": "ipython",
    "version": 3
   },
   "file_extension": ".py",
   "mimetype": "text/x-python",
   "name": "python",
   "nbconvert_exporter": "python",
   "pygments_lexer": "ipython3",
   "version": "3.6.5"
  }
 },
 "nbformat": 4,
 "nbformat_minor": 2
}
